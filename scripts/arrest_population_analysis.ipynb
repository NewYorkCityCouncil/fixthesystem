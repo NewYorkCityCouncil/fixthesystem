{
 "cells": [
  {
   "cell_type": "code",
   "execution_count": 1,
   "metadata": {
    "collapsed": true
   },
   "outputs": [],
   "source": [
    "import numpy as np\n",
    "import pandas as pd\n",
    "from scipy.stats import pearsonr\n",
    "from scipy.stats import norm\n",
    "\n",
    "from matplotlib import rc\n",
    "rc('font', **{'family': 'serif', 'serif': ['Computer Modern']})\n",
    "rc('text', usetex=False)\n",
    "\n",
    "import matplotlib.pyplot as plt\n",
    "import seaborn as sns\n",
    "plt.style.use('ggplot')\n",
    "\n",
    "pd.set_option('display.max_columns', 500)\n",
    "\n",
    "%matplotlib inline\n",
    "%load_ext autotime"
   ]
  },
  {
   "cell_type": "code",
   "execution_count": 2,
   "metadata": {},
   "outputs": [
    {
     "name": "stdout",
     "output_type": "stream",
     "text": [
      "time: 3min 6s\n"
     ]
    }
   ],
   "source": [
    "acs_data1 = pd.read_csv('psam_pusc.csv') # C contains the NYS data\n",
    "\n",
    "acs_data = acs_data1[acs_data1['ST'] == 36]\n",
    "\n",
    "del acs_data1"
   ]
  },
  {
   "cell_type": "code",
   "execution_count": 11,
   "metadata": {},
   "outputs": [
    {
     "name": "stdout",
     "output_type": "stream",
     "text": [
      "time: 9.76 ms\n"
     ]
    }
   ],
   "source": [
    "pumas = pd.read_csv('../nyc_puma_neighborhood.csv')\n",
    "nyc_data = acs_data[acs_data['PUMA'].isin( pumas['PUMA5CE'].unique() )]\n",
    "\n",
    "del pumas\n",
    "del acs_data"
   ]
  },
  {
   "cell_type": "code",
   "execution_count": 24,
   "metadata": {
    "scrolled": true
   },
   "outputs": [
    {
     "name": "stdout",
     "output_type": "stream",
     "text": [
      "time: 53.8 s\n"
     ]
    }
   ],
   "source": [
    "nyc_data.to_csv('acs_NYC_only.csv')"
   ]
  },
  {
   "cell_type": "code",
   "execution_count": 26,
   "metadata": {},
   "outputs": [
    {
     "name": "stdout",
     "output_type": "stream",
     "text": [
      "time: 4.2 ms\n"
     ]
    }
   ],
   "source": [
    "################################################################################################\n",
    "###############################Get the population breakdown#####################################\n",
    "################################################################################################"
   ]
  },
  {
   "cell_type": "code",
   "execution_count": 2,
   "metadata": {},
   "outputs": [
    {
     "name": "stdout",
     "output_type": "stream",
     "text": [
      "time: 15.4 s\n"
     ]
    }
   ],
   "source": [
    "nyc_data = pd.read_csv('acs_NYC_only.csv')"
   ]
  },
  {
   "cell_type": "code",
   "execution_count": 3,
   "metadata": {
    "collapsed": true
   },
   "outputs": [
    {
     "data": {
      "text/html": [
       "<div>\n",
       "<style scoped>\n",
       "    .dataframe tbody tr th:only-of-type {\n",
       "        vertical-align: middle;\n",
       "    }\n",
       "\n",
       "    .dataframe tbody tr th {\n",
       "        vertical-align: top;\n",
       "    }\n",
       "\n",
       "    .dataframe thead th {\n",
       "        text-align: right;\n",
       "    }\n",
       "</style>\n",
       "<table border=\"1\" class=\"dataframe\">\n",
       "  <thead>\n",
       "    <tr style=\"text-align: right;\">\n",
       "      <th></th>\n",
       "      <th>AGEP</th>\n",
       "      <th>HISP</th>\n",
       "      <th>RAC1P</th>\n",
       "    </tr>\n",
       "  </thead>\n",
       "  <tbody>\n",
       "    <tr>\n",
       "      <th>0</th>\n",
       "      <td>78</td>\n",
       "      <td>1</td>\n",
       "      <td>2</td>\n",
       "    </tr>\n",
       "    <tr>\n",
       "      <th>1</th>\n",
       "      <td>19</td>\n",
       "      <td>1</td>\n",
       "      <td>1</td>\n",
       "    </tr>\n",
       "    <tr>\n",
       "      <th>2</th>\n",
       "      <td>50</td>\n",
       "      <td>3</td>\n",
       "      <td>2</td>\n",
       "    </tr>\n",
       "    <tr>\n",
       "      <th>3</th>\n",
       "      <td>28</td>\n",
       "      <td>3</td>\n",
       "      <td>2</td>\n",
       "    </tr>\n",
       "    <tr>\n",
       "      <th>4</th>\n",
       "      <td>21</td>\n",
       "      <td>3</td>\n",
       "      <td>2</td>\n",
       "    </tr>\n",
       "    <tr>\n",
       "      <th>5</th>\n",
       "      <td>2</td>\n",
       "      <td>3</td>\n",
       "      <td>2</td>\n",
       "    </tr>\n",
       "    <tr>\n",
       "      <th>6</th>\n",
       "      <td>69</td>\n",
       "      <td>3</td>\n",
       "      <td>1</td>\n",
       "    </tr>\n",
       "    <tr>\n",
       "      <th>7</th>\n",
       "      <td>55</td>\n",
       "      <td>1</td>\n",
       "      <td>1</td>\n",
       "    </tr>\n",
       "    <tr>\n",
       "      <th>8</th>\n",
       "      <td>50</td>\n",
       "      <td>1</td>\n",
       "      <td>1</td>\n",
       "    </tr>\n",
       "    <tr>\n",
       "      <th>9</th>\n",
       "      <td>19</td>\n",
       "      <td>1</td>\n",
       "      <td>1</td>\n",
       "    </tr>\n",
       "    <tr>\n",
       "      <th>10</th>\n",
       "      <td>17</td>\n",
       "      <td>1</td>\n",
       "      <td>1</td>\n",
       "    </tr>\n",
       "    <tr>\n",
       "      <th>11</th>\n",
       "      <td>14</td>\n",
       "      <td>1</td>\n",
       "      <td>1</td>\n",
       "    </tr>\n",
       "    <tr>\n",
       "      <th>12</th>\n",
       "      <td>60</td>\n",
       "      <td>1</td>\n",
       "      <td>1</td>\n",
       "    </tr>\n",
       "    <tr>\n",
       "      <th>13</th>\n",
       "      <td>95</td>\n",
       "      <td>1</td>\n",
       "      <td>1</td>\n",
       "    </tr>\n",
       "    <tr>\n",
       "      <th>14</th>\n",
       "      <td>51</td>\n",
       "      <td>1</td>\n",
       "      <td>2</td>\n",
       "    </tr>\n",
       "    <tr>\n",
       "      <th>15</th>\n",
       "      <td>42</td>\n",
       "      <td>1</td>\n",
       "      <td>2</td>\n",
       "    </tr>\n",
       "    <tr>\n",
       "      <th>16</th>\n",
       "      <td>16</td>\n",
       "      <td>1</td>\n",
       "      <td>2</td>\n",
       "    </tr>\n",
       "    <tr>\n",
       "      <th>17</th>\n",
       "      <td>11</td>\n",
       "      <td>1</td>\n",
       "      <td>2</td>\n",
       "    </tr>\n",
       "    <tr>\n",
       "      <th>18</th>\n",
       "      <td>8</td>\n",
       "      <td>1</td>\n",
       "      <td>2</td>\n",
       "    </tr>\n",
       "    <tr>\n",
       "      <th>19</th>\n",
       "      <td>65</td>\n",
       "      <td>1</td>\n",
       "      <td>2</td>\n",
       "    </tr>\n",
       "    <tr>\n",
       "      <th>20</th>\n",
       "      <td>87</td>\n",
       "      <td>1</td>\n",
       "      <td>2</td>\n",
       "    </tr>\n",
       "    <tr>\n",
       "      <th>21</th>\n",
       "      <td>95</td>\n",
       "      <td>1</td>\n",
       "      <td>1</td>\n",
       "    </tr>\n",
       "    <tr>\n",
       "      <th>22</th>\n",
       "      <td>58</td>\n",
       "      <td>1</td>\n",
       "      <td>2</td>\n",
       "    </tr>\n",
       "    <tr>\n",
       "      <th>23</th>\n",
       "      <td>40</td>\n",
       "      <td>1</td>\n",
       "      <td>1</td>\n",
       "    </tr>\n",
       "    <tr>\n",
       "      <th>24</th>\n",
       "      <td>20</td>\n",
       "      <td>1</td>\n",
       "      <td>1</td>\n",
       "    </tr>\n",
       "    <tr>\n",
       "      <th>25</th>\n",
       "      <td>87</td>\n",
       "      <td>1</td>\n",
       "      <td>1</td>\n",
       "    </tr>\n",
       "    <tr>\n",
       "      <th>26</th>\n",
       "      <td>90</td>\n",
       "      <td>1</td>\n",
       "      <td>1</td>\n",
       "    </tr>\n",
       "    <tr>\n",
       "      <th>27</th>\n",
       "      <td>69</td>\n",
       "      <td>1</td>\n",
       "      <td>1</td>\n",
       "    </tr>\n",
       "    <tr>\n",
       "      <th>28</th>\n",
       "      <td>91</td>\n",
       "      <td>1</td>\n",
       "      <td>1</td>\n",
       "    </tr>\n",
       "    <tr>\n",
       "      <th>29</th>\n",
       "      <td>83</td>\n",
       "      <td>1</td>\n",
       "      <td>9</td>\n",
       "    </tr>\n",
       "    <tr>\n",
       "      <th>...</th>\n",
       "      <td>...</td>\n",
       "      <td>...</td>\n",
       "      <td>...</td>\n",
       "    </tr>\n",
       "    <tr>\n",
       "      <th>355378</th>\n",
       "      <td>35</td>\n",
       "      <td>1</td>\n",
       "      <td>2</td>\n",
       "    </tr>\n",
       "    <tr>\n",
       "      <th>355379</th>\n",
       "      <td>85</td>\n",
       "      <td>1</td>\n",
       "      <td>1</td>\n",
       "    </tr>\n",
       "    <tr>\n",
       "      <th>355380</th>\n",
       "      <td>26</td>\n",
       "      <td>1</td>\n",
       "      <td>2</td>\n",
       "    </tr>\n",
       "    <tr>\n",
       "      <th>355381</th>\n",
       "      <td>28</td>\n",
       "      <td>1</td>\n",
       "      <td>2</td>\n",
       "    </tr>\n",
       "    <tr>\n",
       "      <th>355382</th>\n",
       "      <td>22</td>\n",
       "      <td>1</td>\n",
       "      <td>1</td>\n",
       "    </tr>\n",
       "    <tr>\n",
       "      <th>355383</th>\n",
       "      <td>42</td>\n",
       "      <td>1</td>\n",
       "      <td>2</td>\n",
       "    </tr>\n",
       "    <tr>\n",
       "      <th>355384</th>\n",
       "      <td>79</td>\n",
       "      <td>1</td>\n",
       "      <td>2</td>\n",
       "    </tr>\n",
       "    <tr>\n",
       "      <th>355385</th>\n",
       "      <td>79</td>\n",
       "      <td>1</td>\n",
       "      <td>1</td>\n",
       "    </tr>\n",
       "    <tr>\n",
       "      <th>355386</th>\n",
       "      <td>33</td>\n",
       "      <td>1</td>\n",
       "      <td>1</td>\n",
       "    </tr>\n",
       "    <tr>\n",
       "      <th>355387</th>\n",
       "      <td>79</td>\n",
       "      <td>1</td>\n",
       "      <td>1</td>\n",
       "    </tr>\n",
       "    <tr>\n",
       "      <th>355388</th>\n",
       "      <td>34</td>\n",
       "      <td>1</td>\n",
       "      <td>1</td>\n",
       "    </tr>\n",
       "    <tr>\n",
       "      <th>355389</th>\n",
       "      <td>26</td>\n",
       "      <td>3</td>\n",
       "      <td>1</td>\n",
       "    </tr>\n",
       "    <tr>\n",
       "      <th>355390</th>\n",
       "      <td>13</td>\n",
       "      <td>1</td>\n",
       "      <td>2</td>\n",
       "    </tr>\n",
       "    <tr>\n",
       "      <th>355391</th>\n",
       "      <td>38</td>\n",
       "      <td>24</td>\n",
       "      <td>1</td>\n",
       "    </tr>\n",
       "    <tr>\n",
       "      <th>355392</th>\n",
       "      <td>44</td>\n",
       "      <td>24</td>\n",
       "      <td>1</td>\n",
       "    </tr>\n",
       "    <tr>\n",
       "      <th>355393</th>\n",
       "      <td>20</td>\n",
       "      <td>1</td>\n",
       "      <td>2</td>\n",
       "    </tr>\n",
       "    <tr>\n",
       "      <th>355394</th>\n",
       "      <td>71</td>\n",
       "      <td>24</td>\n",
       "      <td>9</td>\n",
       "    </tr>\n",
       "    <tr>\n",
       "      <th>355395</th>\n",
       "      <td>95</td>\n",
       "      <td>3</td>\n",
       "      <td>9</td>\n",
       "    </tr>\n",
       "    <tr>\n",
       "      <th>355396</th>\n",
       "      <td>38</td>\n",
       "      <td>3</td>\n",
       "      <td>2</td>\n",
       "    </tr>\n",
       "    <tr>\n",
       "      <th>355397</th>\n",
       "      <td>34</td>\n",
       "      <td>1</td>\n",
       "      <td>1</td>\n",
       "    </tr>\n",
       "    <tr>\n",
       "      <th>355398</th>\n",
       "      <td>57</td>\n",
       "      <td>1</td>\n",
       "      <td>2</td>\n",
       "    </tr>\n",
       "    <tr>\n",
       "      <th>355399</th>\n",
       "      <td>1</td>\n",
       "      <td>1</td>\n",
       "      <td>1</td>\n",
       "    </tr>\n",
       "    <tr>\n",
       "      <th>355400</th>\n",
       "      <td>9</td>\n",
       "      <td>1</td>\n",
       "      <td>2</td>\n",
       "    </tr>\n",
       "    <tr>\n",
       "      <th>355401</th>\n",
       "      <td>24</td>\n",
       "      <td>1</td>\n",
       "      <td>1</td>\n",
       "    </tr>\n",
       "    <tr>\n",
       "      <th>355402</th>\n",
       "      <td>35</td>\n",
       "      <td>24</td>\n",
       "      <td>1</td>\n",
       "    </tr>\n",
       "    <tr>\n",
       "      <th>355403</th>\n",
       "      <td>4</td>\n",
       "      <td>10</td>\n",
       "      <td>2</td>\n",
       "    </tr>\n",
       "    <tr>\n",
       "      <th>355404</th>\n",
       "      <td>89</td>\n",
       "      <td>1</td>\n",
       "      <td>2</td>\n",
       "    </tr>\n",
       "    <tr>\n",
       "      <th>355405</th>\n",
       "      <td>34</td>\n",
       "      <td>1</td>\n",
       "      <td>2</td>\n",
       "    </tr>\n",
       "    <tr>\n",
       "      <th>355406</th>\n",
       "      <td>61</td>\n",
       "      <td>1</td>\n",
       "      <td>2</td>\n",
       "    </tr>\n",
       "    <tr>\n",
       "      <th>355407</th>\n",
       "      <td>25</td>\n",
       "      <td>1</td>\n",
       "      <td>2</td>\n",
       "    </tr>\n",
       "  </tbody>\n",
       "</table>\n",
       "<p>355408 rows × 3 columns</p>\n",
       "</div>"
      ],
      "text/plain": [
       "        AGEP  HISP  RAC1P\n",
       "0         78     1      2\n",
       "1         19     1      1\n",
       "2         50     3      2\n",
       "3         28     3      2\n",
       "4         21     3      2\n",
       "5          2     3      2\n",
       "6         69     3      1\n",
       "7         55     1      1\n",
       "8         50     1      1\n",
       "9         19     1      1\n",
       "10        17     1      1\n",
       "11        14     1      1\n",
       "12        60     1      1\n",
       "13        95     1      1\n",
       "14        51     1      2\n",
       "15        42     1      2\n",
       "16        16     1      2\n",
       "17        11     1      2\n",
       "18         8     1      2\n",
       "19        65     1      2\n",
       "20        87     1      2\n",
       "21        95     1      1\n",
       "22        58     1      2\n",
       "23        40     1      1\n",
       "24        20     1      1\n",
       "25        87     1      1\n",
       "26        90     1      1\n",
       "27        69     1      1\n",
       "28        91     1      1\n",
       "29        83     1      9\n",
       "...      ...   ...    ...\n",
       "355378    35     1      2\n",
       "355379    85     1      1\n",
       "355380    26     1      2\n",
       "355381    28     1      2\n",
       "355382    22     1      1\n",
       "355383    42     1      2\n",
       "355384    79     1      2\n",
       "355385    79     1      1\n",
       "355386    33     1      1\n",
       "355387    79     1      1\n",
       "355388    34     1      1\n",
       "355389    26     3      1\n",
       "355390    13     1      2\n",
       "355391    38    24      1\n",
       "355392    44    24      1\n",
       "355393    20     1      2\n",
       "355394    71    24      9\n",
       "355395    95     3      9\n",
       "355396    38     3      2\n",
       "355397    34     1      1\n",
       "355398    57     1      2\n",
       "355399     1     1      1\n",
       "355400     9     1      2\n",
       "355401    24     1      1\n",
       "355402    35    24      1\n",
       "355403     4    10      2\n",
       "355404    89     1      2\n",
       "355405    34     1      2\n",
       "355406    61     1      2\n",
       "355407    25     1      2\n",
       "\n",
       "[355408 rows x 3 columns]"
      ]
     },
     "execution_count": 3,
     "metadata": {},
     "output_type": "execute_result"
    },
    {
     "name": "stdout",
     "output_type": "stream",
     "text": [
      "time: 49.8 ms\n"
     ]
    }
   ],
   "source": [
    "# For column ['HISP']; 1 = Not hispanic; All other values are hispanic\n",
    "# For column ['RAC1P']; 1 = White; 2 = Black; 3,4,5 = Native; 6 = Asian; 7,8,9 = Other\n",
    "\n",
    "nyc_data[['AGEP', 'HISP', 'RAC1P']]"
   ]
  },
  {
   "cell_type": "code",
   "execution_count": 4,
   "metadata": {
    "scrolled": true
   },
   "outputs": [
    {
     "name": "stdout",
     "output_type": "stream",
     "text": [
      "time: 1.87 s\n"
     ]
    }
   ],
   "source": [
    "# Recreate ACS FactFinder Numbers\n",
    "# nyc_data[['AGEP', 'HISP', 'RAC1P', 'PWGTP']]\n",
    "\n",
    "total_pop = nyc_data['PWGTP'].sum()\n",
    "hisp_white = float(nyc_data[(nyc_data['HISP'] != 1) & (nyc_data['RAC1P'] == 1)]['PWGTP'].sum())\n",
    "hisp_black = float(nyc_data[(nyc_data['HISP'] != 1) & (nyc_data['RAC1P'] == 2)]['PWGTP'].sum())\n",
    "black = float(nyc_data[(nyc_data['HISP'] == 1) & (nyc_data['RAC1P'] == 2)]['PWGTP'].sum())\n",
    "white = float(nyc_data[(nyc_data['HISP'] == 1) & (nyc_data['RAC1P'] == 1)]['PWGTP'].sum())\n",
    "asian = float(nyc_data[ nyc_data['RAC1P'] == 6 ]['PWGTP'].sum())\n",
    "native = float(nyc_data[ nyc_data['RAC1P'].isin([3,4,5]) ]['PWGTP'].sum())\n",
    "other = total_pop - hisp_white - hisp_black - black - white - asian - native"
   ]
  },
  {
   "cell_type": "code",
   "execution_count": 5,
   "metadata": {},
   "outputs": [
    {
     "name": "stdout",
     "output_type": "stream",
     "text": [
      "Black: 1886315.0\n",
      "White: 2748423.0\n",
      "Hispanic Black: 197537.0\n",
      "Hispanic White: 914530.0\n",
      "Asian: 1199896.0\n",
      "Native: 33011.0\n",
      "Other: 1581415.0\n",
      "Total: 8561127\n",
      "time: 1.21 ms\n"
     ]
    }
   ],
   "source": [
    "print(\"Black: {}\\nWhite: {}\\nHispanic Black: {}\\nHispanic White: {}\\nAsian: {}\\nNative: {}\\nOther: {}\\nTotal: {}\".format(\n",
    "    black, white, hisp_black, hisp_white, asian, native, other, total_pop))"
   ]
  },
  {
   "cell_type": "code",
   "execution_count": 6,
   "metadata": {},
   "outputs": [
    {
     "name": "stdout",
     "output_type": "stream",
     "text": [
      "time: 2.4 s\n"
     ]
    }
   ],
   "source": [
    "# Now, break into adult male/female populations\n",
    "\n",
    "nyc_adult = nyc_data[nyc_data['AGEP'] > 17]\n",
    "\n",
    "nyc_adult_male = nyc_adult[nyc_adult['SEX'] == 1]\n",
    "nyc_adult_female = nyc_adult[nyc_adult['SEX'] == 2]"
   ]
  },
  {
   "cell_type": "code",
   "execution_count": 7,
   "metadata": {},
   "outputs": [
    {
     "name": "stdout",
     "output_type": "stream",
     "text": [
      "time: 572 ms\n"
     ]
    }
   ],
   "source": [
    "total_pop_male = nyc_adult_male['PWGTP'].sum()\n",
    "hisp_white_male = float(nyc_adult_male[(nyc_adult_male['HISP'] != 1) & (nyc_adult_male['RAC1P'] == 1)]['PWGTP'].sum())\n",
    "hisp_black_male = float(nyc_adult_male[(nyc_adult_male['HISP'] != 1) & (nyc_adult_male['RAC1P'] == 2)]['PWGTP'].sum())\n",
    "black_male = float(nyc_adult_male[(nyc_adult_male['HISP'] == 1) & (nyc_adult_male['RAC1P'] == 2)]['PWGTP'].sum())\n",
    "white_male = float(nyc_adult_male[(nyc_adult_male['HISP'] == 1) & (nyc_adult_male['RAC1P'] == 1)]['PWGTP'].sum())\n",
    "asian_male = float(nyc_adult_male[ nyc_adult_male['RAC1P'] == 6 ]['PWGTP'].sum())\n",
    "native_male = float(nyc_adult_male[ nyc_adult_male['RAC1P'].isin([3,4,5]) ]['PWGTP'].sum())\n",
    "other_male = total_pop_male - hisp_white_male - hisp_black_male - black_male - white_male - asian_male - native_male"
   ]
  },
  {
   "cell_type": "code",
   "execution_count": 8,
   "metadata": {},
   "outputs": [
    {
     "name": "stdout",
     "output_type": "stream",
     "text": [
      "time: 548 ms\n"
     ]
    }
   ],
   "source": [
    "total_pop_female = nyc_adult_female['PWGTP'].sum()\n",
    "hisp_white_female = float(nyc_adult_female[(nyc_adult_female['HISP'] != 1) & (nyc_adult_female['RAC1P'] == 1)]['PWGTP'].sum())\n",
    "hisp_black_female = float(nyc_adult_female[(nyc_adult_female['HISP'] != 1) & (nyc_adult_female['RAC1P'] == 2)]['PWGTP'].sum())\n",
    "black_female = float(nyc_adult_female[(nyc_adult_female['HISP'] == 1) & (nyc_adult_female['RAC1P'] == 2)]['PWGTP'].sum())\n",
    "white_female = float(nyc_adult_female[(nyc_adult_female['HISP'] == 1) & (nyc_adult_female['RAC1P'] == 1)]['PWGTP'].sum())\n",
    "asian_female = float(nyc_adult_female[ nyc_adult_female['RAC1P'] == 6 ]['PWGTP'].sum())\n",
    "native_female = float(nyc_adult_female[ nyc_adult_female['RAC1P'].isin([3,4,5]) ]['PWGTP'].sum())\n",
    "other_female = total_pop_female - hisp_white_female - hisp_black_female - black_female - white_female - asian_female - native_female"
   ]
  },
  {
   "cell_type": "code",
   "execution_count": 32,
   "metadata": {},
   "outputs": [
    {
     "name": "stdout",
     "output_type": "stream",
     "text": [
      "Adult Males\n",
      "Black: 644695.0\n",
      "White: 1104570.0\n",
      "Hispanic Black: 62723.0\n",
      "Hispanic White: 343358.0\n",
      "Asian: 458878.0\n",
      "Native: 12585.0\n",
      "Other: 537409.0\n",
      "Total: 3164218\n",
      "time: 1.11 ms\n"
     ]
    }
   ],
   "source": [
    "print(\"Adult Males\\nBlack: {}\\nWhite: {}\\nHispanic Black: {}\\nHispanic White: {}\\nAsian: {}\\nNative: {}\\nOther: {}\\nTotal: {}\".format(\n",
    "    black_male, white_male, hisp_black_male, hisp_white_male, asian_male, native_male, other_male, total_pop_male))"
   ]
  },
  {
   "cell_type": "code",
   "execution_count": 33,
   "metadata": {},
   "outputs": [
    {
     "name": "stdout",
     "output_type": "stream",
     "text": [
      "Adult Females\n",
      "Black: 830958.0\n",
      "White: 1186118.0\n",
      "Hispanic Black: 81204.0\n",
      "Hispanic White: 366826.0\n",
      "Asian: 523961.0\n",
      "Native: 12659.0\n",
      "Other: 600492.0\n",
      "Total: 3602218\n",
      "time: 1.01 ms\n"
     ]
    }
   ],
   "source": [
    "print(\"Adult Females\\nBlack: {}\\nWhite: {}\\nHispanic Black: {}\\nHispanic White: {}\\nAsian: {}\\nNative: {}\\nOther: {}\\nTotal: {}\".format(\n",
    "    black_female, white_female, hisp_black_female, hisp_white_female, asian_female, native_female, other_female, total_pop_female))"
   ]
  },
  {
   "cell_type": "code",
   "execution_count": 26,
   "metadata": {},
   "outputs": [
    {
     "name": "stdout",
     "output_type": "stream",
     "text": [
      "time: 660 µs\n"
     ]
    }
   ],
   "source": [
    "ethnic_proportions_adult_male = [black_male, hisp_white_male, white_male, \n",
    "                                 hisp_black_male, asian_male, native_male]"
   ]
  },
  {
   "cell_type": "code",
   "execution_count": 27,
   "metadata": {},
   "outputs": [
    {
     "name": "stdout",
     "output_type": "stream",
     "text": [
      "time: 681 µs\n"
     ]
    }
   ],
   "source": [
    "ethnic_proportions_adult_female = [black_female, hisp_white_female, white_female, \n",
    "                                 hisp_black_female, asian_female, native_female]"
   ]
  },
  {
   "cell_type": "code",
   "execution_count": 11,
   "metadata": {},
   "outputs": [
    {
     "name": "stdout",
     "output_type": "stream",
     "text": [
      "time: 29.6 s\n"
     ]
    }
   ],
   "source": [
    "arrests = pd.read_csv('NYPD_Arrest_Data__Year_to_Date_.csv', parse_dates=['ARREST_DATE'])"
   ]
  },
  {
   "cell_type": "code",
   "execution_count": 23,
   "metadata": {},
   "outputs": [
    {
     "name": "stdout",
     "output_type": "stream",
     "text": [
      "time: 295 ms\n"
     ]
    }
   ],
   "source": [
    "arrests_adult = arrests[arrests['AGE_GROUP'] != '<18']\n",
    "arrests_adult_male = arrests_adult[arrests_adult['PERP_SEX'] == 'M']\n",
    "arrests_adult_female = arrests_adult[arrests_adult['PERP_SEX'] == 'F']"
   ]
  },
  {
   "cell_type": "code",
   "execution_count": 28,
   "metadata": {},
   "outputs": [
    {
     "data": {
      "text/plain": [
       "BLACK                             0.140518\n",
       "WHITE HISPANIC                    0.143946\n",
       "WHITE                             0.020724\n",
       "BLACK HISPANIC                    0.275736\n",
       "ASIAN / PACIFIC ISLANDER          0.022642\n",
       "AMERICAN INDIAN/ALASKAN NATIVE    0.044736\n",
       "Name: PERP_RACE, dtype: float64"
      ]
     },
     "execution_count": 28,
     "metadata": {},
     "output_type": "execute_result"
    },
    {
     "name": "stdout",
     "output_type": "stream",
     "text": [
      "time: 31.4 ms\n"
     ]
    }
   ],
   "source": [
    "arrests_counts_adult_male = arrests_adult_male['PERP_RACE'].value_counts()\n",
    "arrests_counts_adult_male.drop('UNKNOWN', inplace = True)\n",
    "arrests_counts_adult_male = arrests_counts_adult_male/np.array(ethnic_proportions_adult_male)\n",
    "arrests_counts_adult_male"
   ]
  },
  {
   "cell_type": "code",
   "execution_count": 29,
   "metadata": {
    "scrolled": false
   },
   "outputs": [
    {
     "data": {
      "text/plain": [
       "Text(0.5, 1.0, 'Rate of Arrest By Race For Adult Males')"
      ]
     },
     "execution_count": 29,
     "metadata": {},
     "output_type": "execute_result"
    },
    {
     "data": {
      "image/png": "[encoded data removed]",
      "text/plain": [
       "<Figure size 1440x720 with 1 Axes>"
      ]
     },
     "metadata": {
      "needs_background": "light"
     },
     "output_type": "display_data"
    },
    {
     "name": "stdout",
     "output_type": "stream",
     "text": [
      "time: 755 ms\n"
     ]
    }
   ],
   "source": [
    "plt.rcParams[\"figure.figsize\"] = (20,10)\n",
    "ax = sns.barplot(arrests_counts_adult_male.index, arrests_counts_adult_male.tolist())\n",
    "ax.set(xlabel = 'Race', ylabel = 'Num Arrests/Population')\n",
    "plt.title(\"Rate of Arrest By Race For Adult Males\")"
   ]
  },
  {
   "cell_type": "code",
   "execution_count": 15,
   "metadata": {},
   "outputs": [
    {
     "data": {
      "text/plain": [
       "BLACK                             0.030932\n",
       "WHITE HISPANIC                    0.030510\n",
       "WHITE                             0.005606\n",
       "BLACK HISPANIC                    0.046729\n",
       "ASIAN / PACIFIC ISLANDER          0.005110\n",
       "AMERICAN INDIAN/ALASKAN NATIVE    0.008423\n",
       "Name: PERP_RACE, dtype: float64"
      ]
     },
     "execution_count": 15,
     "metadata": {},
     "output_type": "execute_result"
    },
    {
     "name": "stdout",
     "output_type": "stream",
     "text": [
      "time: 13 ms\n"
     ]
    }
   ],
   "source": [
    "arrests_counts_adult_female = arrests_adult_female['PERP_RACE'].value_counts()\n",
    "# arrests_counts_adult_female.drop('UNKNOWN', inplace = True)\n",
    "arrests_counts_adult_female = arrests_counts_adult_female/np.array(ethnic_proportions_adult_female)\n",
    "arrests_counts_adult_female"
   ]
  },
  {
   "cell_type": "code",
   "execution_count": 16,
   "metadata": {},
   "outputs": [
    {
     "data": {
      "text/plain": [
       "Text(0.5, 1.0, 'Rate of Arrest By Race For Adult Females')"
      ]
     },
     "execution_count": 16,
     "metadata": {},
     "output_type": "execute_result"
    },
    {
     "data": {
      "image/png": "[encoded data removed]",
      "text/plain": [
       "<Figure size 1440x720 with 1 Axes>"
      ]
     },
     "metadata": {
      "needs_background": "light"
     },
     "output_type": "display_data"
    },
    {
     "name": "stdout",
     "output_type": "stream",
     "text": [
      "time: 718 ms\n"
     ]
    }
   ],
   "source": [
    "plt.rcParams[\"figure.figsize\"] = (20,10)\n",
    "ax = sns.barplot(arrests_counts_adult_female.index, arrests_counts_adult_female.tolist())\n",
    "ax.set(xlabel = 'Race', ylabel = 'Num Arrests/Population')\n",
    "plt.title(\"Rate of Arrest By Race For Adult Females\")"
   ]
  },
  {
   "cell_type": "code",
   "execution_count": 59,
   "metadata": {},
   "outputs": [
    {
     "data": {
      "text/plain": [
       "BLACK                             8872\n",
       "WHITE HISPANIC                    5603\n",
       "WHITE                             2693\n",
       "BLACK HISPANIC                    2038\n",
       "ASIAN / PACIFIC ISLANDER          1042\n",
       "UNKNOWN                            225\n",
       "AMERICAN INDIAN/ALASKAN NATIVE      78\n",
       "Name: PERP_RACE, dtype: int64"
      ]
     },
     "execution_count": 59,
     "metadata": {},
     "output_type": "execute_result"
    },
    {
     "name": "stdout",
     "output_type": "stream",
     "text": [
      "time: 401 ms\n"
     ]
    }
   ],
   "source": [
    "# Finding vtl related arrests (law code 511)\n",
    "arrests_vtl = arrests[arrests['LAW_CODE'].str.contains('511').fillna(False)]['PERP_RACE'].value_counts()\n",
    "arrests_vtl"
   ]
  },
  {
   "cell_type": "code",
   "execution_count": 61,
   "metadata": {},
   "outputs": [
    {
     "data": {
      "text/plain": [
       "0.8035132110359593"
      ]
     },
     "execution_count": 61,
     "metadata": {},
     "output_type": "execute_result"
    },
    {
     "name": "stdout",
     "output_type": "stream",
     "text": [
      "time: 21.8 ms\n"
     ]
    }
   ],
   "source": [
    "# Fraction Black or hispanic for VTL arrests\n",
    "(arrests_vtl['BLACK HISPANIC'] + arrests_vtl['WHITE HISPANIC'] + arrests_vtl['BLACK'])/arrests_vtl.sum()"
   ]
  },
  {
   "cell_type": "code",
   "execution_count": null,
   "metadata": {
    "collapsed": true
   },
   "outputs": [],
   "source": []
  }
 ],
 "metadata": {
  "kernelspec": {
   "display_name": "Python 3",
   "language": "python",
   "name": "python3"
  },
  "language_info": {
   "codemirror_mode": {
    "name": "ipython",
    "version": 2
   },
   "file_extension": ".py",
   "mimetype": "text/x-python",
   "name": "python",
   "nbconvert_exporter": "python",
   "pygments_lexer": "ipython2",
   "version": "2.7.15rc1"
  }
 },
 "nbformat": 4,
 "nbformat_minor": 2
}
